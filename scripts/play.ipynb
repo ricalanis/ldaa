{
 "cells": [
  {
   "cell_type": "markdown",
   "metadata": {},
   "source": [
    "# Legal Analyzer Playground\n",
    "\n",
    "This notebook lets you load two PDF documents from the `input/` folder, run the legal analyzer agentic graph, and explore the outputs.\n",
    "\n",
    "---"
   ]
  },
  {
   "cell_type": "code",
   "execution_count": null,
   "metadata": {},
   "outputs": [],
   "source": [
    "# 1. Import required modules, make sure you have installed the dependencies\n",
    "import asyncio\n",
    "from pathlib import Path\n",
    "from ldaa.agents.graph import compiled_graph\n",
    "from ldaa.schemas import LegalAnalysisState\n",
    "from ldaa.utils.json import to_serializable\n",
    "import json\n",
    "from ldaa.utils.session import generate_session_id\n",
    "import pdfplumber\n",
    "import IPython.display as display\n",
    "\n"
   ]
  },
  {
   "cell_type": "markdown",
   "metadata": {},
   "source": [
    "## 2. Set up input PDF paths\n",
    "You can change these to point to any PDFs in the `input/` folder."
   ]
  },
  {
   "cell_type": "code",
   "execution_count": null,
   "metadata": {},
   "outputs": [],
   "source": [
    "doc1_path = '../input/ley1.pdf'  # Adjust path if needed\n",
    "doc2_path = '../input/ley2.pdf'  # Adjust path if needed\n",
    "output_path = '../output/playground_result.json'\n",
    "\n",
    "print(f'Using PDF 1: {doc1_path}')\n",
    "print(f'Using PDF 2: {doc2_path}')"
   ]
  },
  {
   "cell_type": "markdown",
   "metadata": {},
   "source": [
    "## 3. Run the agentic graph\n",
    "This cell will run the legal analyzer agentic graph on the two PDFs. This may take a few minutes depending on model and document size."
   ]
  },
  {
   "cell_type": "code",
   "execution_count": null,
   "metadata": {},
   "outputs": [],
   "source": [
    "   async def run_graph(doc1_path, doc2_path, output_path):\n",
    "       state = LegalAnalysisState(doc1_path=doc1_path, doc2_path=doc2_path)\n",
    "       thread_id = generate_session_id()\n",
    "       print(f'Running agentic graph on: {doc1_path} and {doc2_path} (thread_id={thread_id})')\n",
    "       result = await compiled_graph.ainvoke(state, configurable={\"thread_id\": thread_id})\n",
    "       # Save result to output file\n",
    "       Path(output_path).parent.mkdir(parents=True, exist_ok=True)\n",
    "       with open(output_path, 'w') as f:\n",
    "           json.dump(to_serializable(result), f, indent=2)\n",
    "       print(f'Exported final result to {output_path}')\n",
    "       return result"
   ]
  },
  {
   "cell_type": "markdown",
   "metadata": {},
   "source": [
    "## 4. Explore the outputs\n",
    "You can now explore the structured output, including per-paragraph analysis, comparative summary, and meta-logs."
   ]
  },
  {
   "cell_type": "code",
   "execution_count": null,
   "metadata": {},
   "outputs": [],
   "source": [
    "# Display the top-level keys\n",
    "print('Top-level keys in result:', list(result.keys()))\n",
    "\n",
    "# Show comparative summary if available\n",
    "if result.comparison_result and result.comparison_result.comparative_summary:\n",
    "    print('Comparative Summary:')\n",
    "    display.display(result.comparison_result.comparative_summary)\n",
    "\n",
    "# Show per-paragraph analysis for doc1\n",
    "if result.doc1_analysis:\n",
    "    print(f'\n",
    "First 2 analyses for doc1:')\n",
    "    for a in result.doc1_analysis[:2]:\n",
    "        display.display(a)\n",
    "\n",
    "# Show per-paragraph analysis for doc2\n",
    "if result.doc2_analysis:\n",
    "    print(f'\n",
    "First 2 analyses for doc2:')\n",
    "    for a in result.doc2_analysis[:2]:\n",
    "        display.display(a)\n",
    "\n",
    "# Show meta-logs\n",
    "if result.meta_logs:\n",
    "    print('Meta-logs:')\n",
    "    display.display(result.meta_logs)\n"
   ]
  }
 ],
 "metadata": {
  "kernelspec": {
   "display_name": "Python 3",
   "language": "python",
   "name": "python3"
  },
  "language_info": {
   "name": "python",
   "version": "3.10"
  }
 },
 "nbformat": 4,
 "nbformat_minor": 2
}
